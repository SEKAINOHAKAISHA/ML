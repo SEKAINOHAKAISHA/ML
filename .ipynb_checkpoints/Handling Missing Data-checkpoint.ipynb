{
 "cells": [
  {
   "cell_type": "code",
   "execution_count": 1,
   "id": "48e8e378-42b4-4aea-8f23-6f9c230f9ba0",
   "metadata": {},
   "outputs": [],
   "source": [
    "import pandas as pd"
   ]
  },
  {
   "cell_type": "code",
   "execution_count": 2,
   "id": "61fb7f76-b430-4189-9d00-5f857f9371d3",
   "metadata": {},
   "outputs": [],
   "source": [
    "import numpy as np"
   ]
  },
  {
   "cell_type": "code",
   "execution_count": 3,
   "id": "7779c443-32e0-4104-a818-e426ab958f0c",
   "metadata": {},
   "outputs": [],
   "source": [
    "miles = pd.DataFrame({'farthest_run_mi':[50,62,np.nan,100,26,13,31,50]})"
   ]
  },
  {
   "cell_type": "code",
   "execution_count": 4,
   "id": "05d88aa0-6220-413d-9257-a5d7e2fa9075",
   "metadata": {},
   "outputs": [
    {
     "data": {
      "text/html": [
       "<div>\n",
       "<style scoped>\n",
       "    .dataframe tbody tr th:only-of-type {\n",
       "        vertical-align: middle;\n",
       "    }\n",
       "\n",
       "    .dataframe tbody tr th {\n",
       "        vertical-align: top;\n",
       "    }\n",
       "\n",
       "    .dataframe thead th {\n",
       "        text-align: right;\n",
       "    }\n",
       "</style>\n",
       "<table border=\"1\" class=\"dataframe\">\n",
       "  <thead>\n",
       "    <tr style=\"text-align: right;\">\n",
       "      <th></th>\n",
       "      <th>farthest_run_mi</th>\n",
       "    </tr>\n",
       "  </thead>\n",
       "  <tbody>\n",
       "    <tr>\n",
       "      <th>0</th>\n",
       "      <td>50.0</td>\n",
       "    </tr>\n",
       "    <tr>\n",
       "      <th>1</th>\n",
       "      <td>62.0</td>\n",
       "    </tr>\n",
       "    <tr>\n",
       "      <th>2</th>\n",
       "      <td>NaN</td>\n",
       "    </tr>\n",
       "    <tr>\n",
       "      <th>3</th>\n",
       "      <td>100.0</td>\n",
       "    </tr>\n",
       "    <tr>\n",
       "      <th>4</th>\n",
       "      <td>26.0</td>\n",
       "    </tr>\n",
       "    <tr>\n",
       "      <th>5</th>\n",
       "      <td>13.0</td>\n",
       "    </tr>\n",
       "    <tr>\n",
       "      <th>6</th>\n",
       "      <td>31.0</td>\n",
       "    </tr>\n",
       "    <tr>\n",
       "      <th>7</th>\n",
       "      <td>50.0</td>\n",
       "    </tr>\n",
       "  </tbody>\n",
       "</table>\n",
       "</div>"
      ],
      "text/plain": [
       "   farthest_run_mi\n",
       "0             50.0\n",
       "1             62.0\n",
       "2              NaN\n",
       "3            100.0\n",
       "4             26.0\n",
       "5             13.0\n",
       "6             31.0\n",
       "7             50.0"
      ]
     },
     "execution_count": 4,
     "metadata": {},
     "output_type": "execute_result"
    }
   ],
   "source": [
    "miles"
   ]
  },
  {
   "cell_type": "code",
   "execution_count": 7,
   "id": "974199bb-b3ce-4e33-a6f0-e56936fab89d",
   "metadata": {},
   "outputs": [
    {
     "data": {
      "text/plain": [
       "farthest_run_mi    1\n",
       "dtype: int64"
      ]
     },
     "execution_count": 7,
     "metadata": {},
     "output_type": "execute_result"
    }
   ],
   "source": [
    "miles.isna().sum()"
   ]
  },
  {
   "cell_type": "code",
   "execution_count": 8,
   "id": "08857ddc-a55c-40cd-a2ee-054144fdc678",
   "metadata": {},
   "outputs": [],
   "source": [
    "from sklearn.impute import SimpleImputer\n"
   ]
  },
  {
   "cell_type": "code",
   "execution_count": 9,
   "id": "2c83b29a-6e70-4264-a2e5-069bd75ccfbd",
   "metadata": {},
   "outputs": [],
   "source": [
    "imp_mean = SimpleImputer(strategy='mean')"
   ]
  },
  {
   "cell_type": "code",
   "execution_count": 12,
   "id": "40759136-db76-428e-94d5-2f6964cb3e4f",
   "metadata": {},
   "outputs": [
    {
     "data": {
      "text/plain": [
       "array([[ 50.        ],\n",
       "       [ 62.        ],\n",
       "       [ 47.42857143],\n",
       "       [100.        ],\n",
       "       [ 26.        ],\n",
       "       [ 13.        ],\n",
       "       [ 31.        ],\n",
       "       [ 50.        ]])"
      ]
     },
     "execution_count": 12,
     "metadata": {},
     "output_type": "execute_result"
    }
   ],
   "source": [
    "imp_mean.fit_transform(miles)"
   ]
  },
  {
   "cell_type": "code",
   "execution_count": 13,
   "id": "521ceeb1-9b3d-4342-88cd-98c0037760b3",
   "metadata": {},
   "outputs": [],
   "source": [
    "imp_median = SimpleImputer(strategy='median')"
   ]
  },
  {
   "cell_type": "code",
   "execution_count": 14,
   "id": "cf7b4700-f67c-4567-a71a-175139acce87",
   "metadata": {},
   "outputs": [
    {
     "data": {
      "text/plain": [
       "array([[ 50.],\n",
       "       [ 62.],\n",
       "       [ 50.],\n",
       "       [100.],\n",
       "       [ 26.],\n",
       "       [ 13.],\n",
       "       [ 31.],\n",
       "       [ 50.]])"
      ]
     },
     "execution_count": 14,
     "metadata": {},
     "output_type": "execute_result"
    }
   ],
   "source": [
    "imp_median.fit_transform(miles)"
   ]
  },
  {
   "cell_type": "code",
   "execution_count": 23,
   "id": "6b6447f9-a5a3-496d-8cb0-351a4036b851",
   "metadata": {},
   "outputs": [],
   "source": [
    "imp_mode = SimpleImputer(strategy='most_frequent')"
   ]
  },
  {
   "cell_type": "code",
   "execution_count": 25,
   "id": "42d8cec7-c197-49fb-a427-de4250027214",
   "metadata": {},
   "outputs": [
    {
     "data": {
      "text/plain": [
       "array([[ 50.],\n",
       "       [ 62.],\n",
       "       [ 50.],\n",
       "       [100.],\n",
       "       [ 26.],\n",
       "       [ 13.],\n",
       "       [ 31.],\n",
       "       [ 50.]])"
      ]
     },
     "execution_count": 25,
     "metadata": {},
     "output_type": "execute_result"
    }
   ],
   "source": [
    "imp_mode.fit_transform(miles)"
   ]
  },
  {
   "cell_type": "code",
   "execution_count": 26,
   "id": "c826fdf4-a084-4fe1-b2c0-b1e631a9ddaa",
   "metadata": {},
   "outputs": [],
   "source": [
    "imp_constant = SimpleImputer(strategy='constant',fill_value=13)"
   ]
  },
  {
   "cell_type": "code",
   "execution_count": 27,
   "id": "e03a3e7c-bc31-40a2-a4fc-961773491edc",
   "metadata": {},
   "outputs": [
    {
     "data": {
      "text/plain": [
       "array([[ 50.],\n",
       "       [ 62.],\n",
       "       [ 13.],\n",
       "       [100.],\n",
       "       [ 26.],\n",
       "       [ 13.],\n",
       "       [ 31.],\n",
       "       [ 50.]])"
      ]
     },
     "execution_count": 27,
     "metadata": {},
     "output_type": "execute_result"
    }
   ],
   "source": [
    "imp_constant.fit_transform(miles)"
   ]
  },
  {
   "cell_type": "code",
   "execution_count": 28,
   "id": "2621b16a-e35d-46d4-87e5-09f7aeb2b381",
   "metadata": {},
   "outputs": [],
   "source": [
    "names = pd.DataFrame({'name' : ['ryan' , 'nolan' , 'honus', 'wagner' , np.nan, 'ruth']})"
   ]
  },
  {
   "cell_type": "code",
   "execution_count": 29,
   "id": "efc20e6b-b836-4150-a02d-8646d7672d95",
   "metadata": {},
   "outputs": [
    {
     "data": {
      "text/html": [
       "<div>\n",
       "<style scoped>\n",
       "    .dataframe tbody tr th:only-of-type {\n",
       "        vertical-align: middle;\n",
       "    }\n",
       "\n",
       "    .dataframe tbody tr th {\n",
       "        vertical-align: top;\n",
       "    }\n",
       "\n",
       "    .dataframe thead th {\n",
       "        text-align: right;\n",
       "    }\n",
       "</style>\n",
       "<table border=\"1\" class=\"dataframe\">\n",
       "  <thead>\n",
       "    <tr style=\"text-align: right;\">\n",
       "      <th></th>\n",
       "      <th>name</th>\n",
       "    </tr>\n",
       "  </thead>\n",
       "  <tbody>\n",
       "    <tr>\n",
       "      <th>0</th>\n",
       "      <td>ryan</td>\n",
       "    </tr>\n",
       "    <tr>\n",
       "      <th>1</th>\n",
       "      <td>nolan</td>\n",
       "    </tr>\n",
       "    <tr>\n",
       "      <th>2</th>\n",
       "      <td>honus</td>\n",
       "    </tr>\n",
       "    <tr>\n",
       "      <th>3</th>\n",
       "      <td>wagner</td>\n",
       "    </tr>\n",
       "    <tr>\n",
       "      <th>4</th>\n",
       "      <td>NaN</td>\n",
       "    </tr>\n",
       "    <tr>\n",
       "      <th>5</th>\n",
       "      <td>ruth</td>\n",
       "    </tr>\n",
       "  </tbody>\n",
       "</table>\n",
       "</div>"
      ],
      "text/plain": [
       "     name\n",
       "0    ryan\n",
       "1   nolan\n",
       "2   honus\n",
       "3  wagner\n",
       "4     NaN\n",
       "5    ruth"
      ]
     },
     "execution_count": 29,
     "metadata": {},
     "output_type": "execute_result"
    }
   ],
   "source": [
    "names"
   ]
  },
  {
   "cell_type": "code",
   "execution_count": 33,
   "id": "3052f35e-e920-4814-b113-0350d8a455af",
   "metadata": {},
   "outputs": [],
   "source": [
    "imp_constant_cat = SimpleImputer(strategy='constant', fill_value='babe') "
   ]
  },
  {
   "cell_type": "code",
   "execution_count": 34,
   "id": "caf0b47e-6050-45e7-b808-501ed08fd522",
   "metadata": {},
   "outputs": [
    {
     "data": {
      "text/plain": [
       "array([['ryan'],\n",
       "       ['nolan'],\n",
       "       ['honus'],\n",
       "       ['wagner'],\n",
       "       ['babe'],\n",
       "       ['ruth']], dtype=object)"
      ]
     },
     "execution_count": 34,
     "metadata": {},
     "output_type": "execute_result"
    }
   ],
   "source": [
    "imp_constant_cat.fit_transform(names)"
   ]
  },
  {
   "cell_type": "code",
   "execution_count": 37,
   "id": "951038bc-32b1-4e1b-ab5b-fbb460efc7d5",
   "metadata": {},
   "outputs": [],
   "source": [
    "imp_mean_marked = SimpleImputer(strategy='mean',add_indicator=True)"
   ]
  },
  {
   "cell_type": "code",
   "execution_count": 38,
   "id": "0f5d9401-4217-4b11-a7ab-e5779a9114b2",
   "metadata": {},
   "outputs": [
    {
     "data": {
      "text/plain": [
       "array([[ 50.        ,   0.        ],\n",
       "       [ 62.        ,   0.        ],\n",
       "       [ 47.42857143,   1.        ],\n",
       "       [100.        ,   0.        ],\n",
       "       [ 26.        ,   0.        ],\n",
       "       [ 13.        ,   0.        ],\n",
       "       [ 31.        ,   0.        ],\n",
       "       [ 50.        ,   0.        ]])"
      ]
     },
     "execution_count": 38,
     "metadata": {},
     "output_type": "execute_result"
    }
   ],
   "source": [
    "imp_mean_marked.fit_transform(miles)"
   ]
  },
  {
   "cell_type": "code",
   "execution_count": 42,
   "id": "a447cd2f-76bd-4f71-8b26-8d114651080a",
   "metadata": {},
   "outputs": [],
   "source": [
    "imp_mode_marked = SimpleImputer(strategy='most_frequent',add_indicator=True)"
   ]
  },
  {
   "cell_type": "code",
   "execution_count": 43,
   "id": "c7039bbe-c318-4666-9349-402fb2e8a001",
   "metadata": {},
   "outputs": [
    {
     "data": {
      "text/plain": [
       "array([['ryan', False],\n",
       "       ['nolan', False],\n",
       "       ['honus', False],\n",
       "       ['wagner', False],\n",
       "       ['honus', True],\n",
       "       ['ruth', False]], dtype=object)"
      ]
     },
     "execution_count": 43,
     "metadata": {},
     "output_type": "execute_result"
    }
   ],
   "source": [
    "imp_mode_marked.fit_transform(names)"
   ]
  },
  {
   "cell_type": "code",
   "execution_count": null,
   "id": "221f1e06-1ef1-40cf-8787-faf9b07d1fa7",
   "metadata": {},
   "outputs": [],
   "source": []
  }
 ],
 "metadata": {
  "kernelspec": {
   "display_name": "Python 3 (ipykernel)",
   "language": "python",
   "name": "python3"
  },
  "language_info": {
   "codemirror_mode": {
    "name": "ipython",
    "version": 3
   },
   "file_extension": ".py",
   "mimetype": "text/x-python",
   "name": "python",
   "nbconvert_exporter": "python",
   "pygments_lexer": "ipython3",
   "version": "3.12.3"
  }
 },
 "nbformat": 4,
 "nbformat_minor": 5
}
